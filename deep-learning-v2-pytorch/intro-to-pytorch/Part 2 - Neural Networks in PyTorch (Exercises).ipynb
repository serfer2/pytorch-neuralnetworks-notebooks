{
 "cells": [
  {
   "cell_type": "markdown",
   "metadata": {},
   "source": [
    "# Neural networks with PyTorch\n",
    "\n",
    "Deep learning networks tend to be massive with dozens or hundreds of layers, that's where the term \"deep\" comes from. You can build one of these deep networks using only weight matrices as we did in the previous notebook, but in general it's very cumbersome and difficult to implement. PyTorch has a nice module `nn` that provides a nice way to efficiently build large neural networks."
   ]
  },
  {
   "cell_type": "code",
   "execution_count": 9,
   "metadata": {},
   "outputs": [],
   "source": [
    "# Import necessary packages\n",
    "\n",
    "%matplotlib inline\n",
    "%config InlineBackend.figure_format = 'retina'\n",
    "\n",
    "import numpy as np\n",
    "import torch\n",
    "\n",
    "import helper\n",
    "\n",
    "import matplotlib.pyplot as plt"
   ]
  },
  {
   "cell_type": "markdown",
   "metadata": {},
   "source": [
    "\n",
    "Now we're going to build a larger network that can solve a (formerly) difficult problem, identifying text in an image. Here we'll use the MNIST dataset which consists of greyscale handwritten digits. Each image is 28x28 pixels, you can see a sample below\n",
    "\n",
    "<img src='assets/mnist.png'>\n",
    "\n",
    "Our goal is to build a neural network that can take one of these images and predict the digit in the image.\n",
    "\n",
    "First up, we need to get our dataset. This is provided through the `torchvision` package. The code below will download the MNIST dataset, then create training and test datasets for us. Don't worry too much about the details here, you'll learn more about this later."
   ]
  },
  {
   "cell_type": "code",
   "execution_count": 10,
   "metadata": {},
   "outputs": [],
   "source": [
    "### Run this cell\n",
    "\n",
    "from torchvision import datasets, transforms\n",
    "\n",
    "# Define a transform to normalize the data\n",
    "transform = transforms.Compose([transforms.ToTensor(),\n",
    "                              transforms.Normalize((0.5,), (0.5,)),\n",
    "                              ])\n",
    "\n",
    "# Download and load the training data\n",
    "trainset = datasets.MNIST('MNIST_data/', download=True, train=True, transform=transform)\n",
    "trainloader = torch.utils.data.DataLoader(trainset, batch_size=64, shuffle=True)"
   ]
  },
  {
   "cell_type": "markdown",
   "metadata": {},
   "source": [
    "We have the training data loaded into `trainloader` and we make that an iterator with `iter(trainloader)`. Later, we'll use this to loop through the dataset for training, like\n",
    "\n",
    "```python\n",
    "for image, label in trainloader:\n",
    "    ## do things with images and labels\n",
    "```\n",
    "\n",
    "You'll notice I created the `trainloader` with a batch size of 64, and `shuffle=True`. The batch size is the number of images we get in one iteration from the data loader and pass through our network, often called a *batch*. And `shuffle=True` tells it to shuffle the dataset every time we start going through the data loader again. But here I'm just grabbing the first batch so we can check out the data. We can see below that `images` is just a tensor with size `(64, 1, 28, 28)`. So, 64 images per batch, 1 color channel, and 28x28 images."
   ]
  },
  {
   "cell_type": "code",
   "execution_count": 11,
   "metadata": {},
   "outputs": [
    {
     "name": "stdout",
     "output_type": "stream",
     "text": [
      "<class 'torch.Tensor'>\n",
      "torch.Size([64, 1, 28, 28])\n",
      "torch.Size([64])\n"
     ]
    }
   ],
   "source": [
    "dataiter = iter(trainloader)\n",
    "images, labels = dataiter.next()\n",
    "print(type(images))\n",
    "print(images.shape)\n",
    "print(labels.shape)"
   ]
  },
  {
   "cell_type": "markdown",
   "metadata": {},
   "source": [
    "This is what one of the images looks like. "
   ]
  },
  {
   "cell_type": "code",
   "execution_count": 12,
   "metadata": {},
   "outputs": [
    {
     "data": {
      "image/png": "[encoded data removed]",
      "text/plain": [
       "<Figure size 432x288 with 1 Axes>"
      ]
     },
     "metadata": {
      "image/png": {
       "height": 250,
       "width": 253
      },
      "needs_background": "light"
     },
     "output_type": "display_data"
    }
   ],
   "source": [
    "plt.imshow(images[1].numpy().squeeze(), cmap='Greys_r');"
   ]
  },
  {
   "cell_type": "markdown",
   "metadata": {},
   "source": [
    "First, let's try to build a simple network for this dataset using weight matrices and matrix multiplications. Then, we'll see how to do it using PyTorch's `nn` module which provides a much more convenient and powerful method for defining network architectures.\n",
    "\n",
    "The networks you've seen so far are called *fully-connected* or *dense* networks. Each unit in one layer is connected to each unit in the next layer. In fully-connected networks, the input to each layer must be a one-dimensional vector (which can be stacked into a 2D tensor as a batch of multiple examples). However, our images are 28x28 2D tensors, so we need to convert them into 1D vectors. Thinking about sizes, we need to convert the batch of images with shape `(64, 1, 28, 28)` to a have a shape of `(64, 784)`, 784 is 28 times 28. This is typically called *flattening*, we flattened the 2D images into 1D vectors.\n",
    "\n",
    "Previously you built a network with one output unit. Here we need 10 output units, one for each digit. We want our network to predict the digit shown in an image, so what we'll do is calculate probabilities that the image is of any one digit or class. This ends up being a discrete probability distribution over the classes (digits) that tells us the most likely class for the image. That means we need 10 output units for the 10 classes (digits). We'll see how to convert the network output into a probability distribution next.\n",
    "\n",
    "> **Exercise:** Flatten the batch of images `images`. Then build a multi-layer network with 784 input units, 256 hidden units, and 10 output units using random tensors for the weights and biases. For now, use a sigmoid activation for the hidden layer. Leave the output layer without an activation, we'll add one that gives us a probability distribution next."
   ]
  },
  {
   "cell_type": "code",
   "execution_count": 15,
   "metadata": {},
   "outputs": [
    {
     "name": "stdout",
     "output_type": "stream",
     "text": [
      "torch.Size([64, 10])\n",
      "tensor([[  0.3899, -19.8812,   0.5629,   5.3495,   0.7436,  -9.7523,   2.6086,\n",
      "          -4.7892,   6.6529,   1.5363],\n",
      "        [  2.0842, -32.8964,  -5.7915,   1.1241,   3.4252,  -3.9232,   9.0429,\n",
      "         -11.4438,  13.3742,  -8.6717],\n",
      "        [ -3.6625, -21.8307,  -6.3914,   4.6780,   3.0924, -15.7277,  11.1655,\n",
      "         -11.2305,  16.8677,   0.8846],\n",
      "        [  2.7735, -25.3991,   2.2474, -14.5223,   6.1145,  -6.8973,  -0.4774,\n",
      "          -4.1324,  17.1278,  -2.1865],\n",
      "        [ -3.1500, -34.8128,  -5.8143,  -1.4196,   1.1081,  -6.9361,   7.0664,\n",
      "          -5.8760,  14.8691,  -3.4103],\n",
      "        [ -5.1126, -28.5261,  -6.4648,   0.6910,  -1.0355, -19.2756,   8.0785,\n",
      "         -15.7061,  12.9012,   1.3874],\n",
      "        [  0.8321, -19.5474,  -1.2345,  -2.5935,   6.0636, -15.4764,   9.2850,\n",
      "          -2.8514,  11.0323,  -5.8325],\n",
      "        [ -1.0433, -22.5540,  -3.7600,   2.2953,   9.0097, -19.2554,   0.1185,\n",
      "          -2.7865,   8.3562,  -0.2357],\n",
      "        [  2.7620, -22.4720,  -6.0948,  -5.2949,   6.0772, -11.9127,   7.0597,\n",
      "          -4.7493,  12.1968,   3.7393],\n",
      "        [  4.5307, -37.1931,  -6.3601,  -2.8107,  -1.3431,  -9.2123,   6.4170,\n",
      "         -15.7973,   9.2206,  -4.1622],\n",
      "        [  2.9070, -19.0784,  -5.6795,  -6.2035,  -2.7214, -10.0435,   9.4666,\n",
      "         -10.5940,  20.2430,  -4.2137],\n",
      "        [  5.8199, -13.5676,   4.6474,  -3.1753,  -5.4497, -23.7339,   7.6994,\n",
      "          -9.1452,  16.3569,  -8.6312],\n",
      "        [ 17.8785, -14.7008,  -6.8241,   9.2981,   3.8528,  -9.4431,   2.8731,\n",
      "          -5.2058,  18.9017,   0.1977],\n",
      "        [  5.9949, -24.7345,  -1.5697, -12.7133,   6.8080,  -1.4698,   8.4359,\n",
      "          -2.4390,  22.5378,  -8.1408],\n",
      "        [  0.5663, -29.3973,  -2.0767, -11.8775,   9.0058, -10.8397,  -0.1210,\n",
      "          -7.6446,  12.4218,  -2.1797],\n",
      "        [ -1.1178, -20.5934,  -3.8220,   0.9427,  -0.4613, -18.3557,  11.7048,\n",
      "          -9.3101,  22.3116,  -1.8819],\n",
      "        [ -0.6397, -26.0487,   1.3265,  -7.2659,   8.5401,   0.5042,  -0.3334,\n",
      "         -14.1552,  12.6876,  -9.1638],\n",
      "        [ -0.0764, -19.3651,  -5.3339,  -3.1009,   2.2937, -18.7259,   7.0767,\n",
      "          -5.0699,   9.4979,   0.8950],\n",
      "        [  7.4530, -33.2641,   8.8927,  -6.7501,   5.0072,  -4.9576,   9.1498,\n",
      "          -6.2461,   2.4262,  -3.4512],\n",
      "        [  2.5059, -23.1325,   1.0723,   4.8489,  -7.2845, -15.1270,   6.3155,\n",
      "         -10.6082,  18.4272,  -1.7266],\n",
      "        [  2.0580, -26.5542,  -7.2331,  -4.6487,  -3.8156,  -9.6979,   5.6769,\n",
      "          -4.9448,  10.4679,  -8.6968],\n",
      "        [  5.2936, -18.4067,  -3.1225,  -2.1439,   1.4114, -12.6541,   7.2285,\n",
      "          -1.0346,  14.1822,  -2.9162],\n",
      "        [ -9.5649, -21.9778,  -6.2805,  -1.8420,   4.3700, -15.1834,  10.6936,\n",
      "          -6.4542,  14.7368,  -4.3254],\n",
      "        [ -1.0018, -24.5109,   0.4648,   3.6520,   5.0505, -18.8375,   2.6704,\n",
      "         -13.6969,  18.9734,  -1.2172],\n",
      "        [  7.5544, -20.9338,   0.3840,   6.5410,  12.0843, -16.1021,  11.8563,\n",
      "          -8.4793,   7.5032,   0.7562],\n",
      "        [  3.1347, -24.4222, -10.5669,  -1.7590,  15.0355,   7.3906,  -0.0605,\n",
      "         -11.4912,  19.0347,  -1.8491],\n",
      "        [  1.1166, -22.5857,   4.3980,   6.7263,  -0.1437, -19.8919,  10.8080,\n",
      "          -9.3745,  13.1766,  -2.6652],\n",
      "        [  4.3552, -19.6694,  -1.6109,  -4.9776,   8.0767, -15.9015,   6.6084,\n",
      "          -1.8517,   7.8570,  -2.8351],\n",
      "        [  3.3551, -31.3096,  -0.4638,  -3.3801,   8.1431, -11.7686,  13.9272,\n",
      "          -4.1567,   7.5007,  -3.8589],\n",
      "        [  6.9699, -21.5362,   3.2107,  -7.0510,  10.6319, -14.2688,   2.8595,\n",
      "           0.3265,   5.7554,   1.8567],\n",
      "        [ 10.8003, -35.9402,   0.0326, -13.4561,   4.8474,  -6.5546,   7.9067,\n",
      "          -7.3757,   1.6145,  -1.1298],\n",
      "        [ -1.3821, -17.5760,  -6.5893,   5.4965,   9.5082, -14.7001,  10.2162,\n",
      "          -7.8700,  17.5594,  -1.9596],\n",
      "        [  6.6811, -25.0789,  -2.6595,   3.0510,   5.4384, -14.9237,   9.8669,\n",
      "          -9.8497,   8.2438,   2.0063],\n",
      "        [ -3.2539, -23.0231,  -7.4008,  -8.6061,   6.9477,  -6.9126,  12.3812,\n",
      "          -3.9765,  16.2336,  -0.3097],\n",
      "        [ -3.8254, -17.4567, -10.6915,  -4.9657,   2.2550, -11.3986,   4.8457,\n",
      "          -8.7673,  11.3199,  -2.9172],\n",
      "        [  8.6745, -27.2567,  -4.6850,  -1.6293,   3.4880,  -0.6711,   8.0681,\n",
      "         -12.6693,  16.2125,   0.6502],\n",
      "        [  0.6968, -21.0693,   0.3613,   8.9926,   1.6255, -12.6610,   4.3882,\n",
      "         -15.4003,   6.6288,   2.5650],\n",
      "        [  3.1602, -15.4659,  -3.1557,   1.0296,   3.1504, -15.9369,   7.4091,\n",
      "          -4.3455,  15.2582,  -2.0788],\n",
      "        [  3.3614, -22.4338,  -0.0690,   2.7347,   0.6437, -18.9981,   9.9987,\n",
      "         -12.6008,  20.9648,  -0.0627],\n",
      "        [  5.7891, -31.6213,  -8.9375,   4.9916,   8.9617,  -0.5302,  16.0147,\n",
      "          -8.7078,   9.8264,  -5.4461],\n",
      "        [  1.3116, -32.7435,  -3.4142,  -8.4400,   7.6870,  -4.8194,   5.2765,\n",
      "          -7.3334,  13.1319,   5.1037],\n",
      "        [  0.0356, -15.7402,   3.1460,  -0.9195,   6.4105, -14.1282,   1.7828,\n",
      "         -12.3177,  17.1921,  -6.5717],\n",
      "        [  6.8555, -26.5025,   1.8301,  17.2934,   8.0529, -21.3574,   2.9275,\n",
      "         -12.4088,  20.0035,   6.1877],\n",
      "        [ -1.9272, -24.0584,  -7.6494,   2.8648,   2.9649, -19.0380,  15.7489,\n",
      "          -7.7939,   9.6707,  -3.5113],\n",
      "        [  2.5257, -31.0411,  -4.8819,  -0.1174,   0.7128, -10.2816,   5.7869,\n",
      "         -10.8776,  19.8025,  -3.5959],\n",
      "        [ 10.8369, -14.7499,  -8.0139,  -4.4397,   6.6054, -13.1159,  -9.7352,\n",
      "         -13.0111,  17.5552,  -0.8620],\n",
      "        [ 13.2146, -24.0749, -12.7357,   1.6856,  -2.0225,   0.0389,   9.3312,\n",
      "          -1.0479,  13.2655,  -7.5856],\n",
      "        [ 12.7695, -15.7975,  -1.9198,   5.7744,   7.5557,  -2.2234,   4.4521,\n",
      "          -5.3395,  19.5894,   1.3806],\n",
      "        [ 10.9111, -21.0061,  -7.1957,  -3.4590,  -2.9402, -18.5988,  13.5294,\n",
      "          -2.3219,  25.8683,  -9.1702],\n",
      "        [  1.9929, -19.9203, -15.4322,   0.4407,  -5.3436,  -5.1363,   3.9310,\n",
      "          -0.4652,  16.8362,  -4.7725],\n",
      "        [  8.8123, -24.8239,  -4.4079,  -8.2629,   1.7942, -11.3746,  -5.9453,\n",
      "          -2.2844,  18.1161, -11.0703],\n",
      "        [ -4.7147, -21.0277,  -8.9786,   1.1203,  -2.9758, -22.8923,  -2.4451,\n",
      "         -14.1569,  22.0015,  -1.4894],\n",
      "        [  2.5733, -14.5581,   1.2566,   1.6248,   3.0883, -21.7252,   7.1378,\n",
      "         -10.8970,  16.2461,  -9.8885],\n",
      "        [  2.9805, -24.7044,  -7.9729,  -3.1392,   4.4830, -10.4778,   5.5646,\n",
      "          -4.9714,  12.6497,  -0.4130],\n",
      "        [ -0.0529, -22.9239,  -4.8206,  -7.2331,   6.2871, -13.5286,   4.4466,\n",
      "         -10.9986,  14.0768,  -5.3129],\n",
      "        [ -0.8736, -23.5939,  -3.7935,   4.6967,   4.9982, -14.5858,   6.9399,\n",
      "          -7.2103,   6.2066,  -3.3701],\n",
      "        [  3.9197, -16.5712, -14.1374,   1.7325,   3.2288,  -7.0143,   3.0023,\n",
      "          -4.4970,  21.8944,   1.4295],\n",
      "        [ -5.7714, -22.1905,  -6.3492,   1.3732,   3.3393, -18.2063,  10.7168,\n",
      "         -11.6643,   6.6210,  -1.3230],\n",
      "        [  1.3682, -37.7723,  -1.0089,  -5.5365,   8.5043,  -4.9367,  10.4695,\n",
      "           0.1098,   3.1276,   0.5413],\n",
      "        [  1.9452, -18.5247,  -2.5580,   4.5657,   1.2981,  -9.6226,   4.6422,\n",
      "          -9.7179,  17.1614,  -4.6584],\n",
      "        [  0.3560, -24.6310, -12.0523,  -8.8847,   1.6261,  -4.6680,   9.7439,\n",
      "          -2.8450,  11.7807,  -2.0115],\n",
      "        [  2.9958, -26.0218,  -3.8911,   0.3095,   3.7599, -17.7715,  12.8151,\n",
      "          -5.3985,  11.5485,  -1.0080],\n",
      "        [  6.9109, -21.4092,  -1.3649,  -0.9212,  10.1105,  -5.1248,   7.4210,\n",
      "          -3.2312,  14.0910,  -4.9556],\n",
      "        [ -0.4431, -19.5226,  -2.6628,  -9.9611,  -1.2874, -20.5854,   6.6690,\n",
      "          -8.7053,  18.1483,  -4.7035]])\n"
     ]
    }
   ],
   "source": [
    "## Your solution\n",
    "\n",
    "def activation(x):\n",
    "    return 1 / (1 + torch.exp(-x))\n",
    "\n",
    "# Convertimos la imagen de entrada a un array de pixels\n",
    "# Una sola dimensión, sin especificar la 2a (-1)\n",
    "inputs = images.view(images.shape[0], -1)\n",
    "\n",
    "n_inputs = 784\n",
    "n_hidden = 256\n",
    "n_outputs = 10 # del 0 al 9\n",
    "\n",
    "# Inicializamos parametros de la NN\n",
    "W1 = torch.randn(n_inputs, n_hidden)\n",
    "B1 = torch.randn(n_hidden)\n",
    "\n",
    "W2 = torch.randn(n_hidden, n_outputs)\n",
    "B2 = torch.randn(n_outputs)\n",
    "\n",
    "h = activation(torch.mm(inputs, W1) + B1)\n",
    "\n",
    "# output of your network, should have shape (64,10)\n",
    "# 64 filas con cada una de las probabilidades de que esa fila sea del 0 al 9\n",
    "out = torch.mm(h, W2) + B2\n",
    "\n",
    "# Ojo, aquí la red está desentrenada\n",
    "print(out.shape)\n",
    "print(out)"
   ]
  },
  {
   "cell_type": "markdown",
   "metadata": {},
   "source": [
    "Now we have 10 outputs for our network. We want to pass in an image to our network and get out a probability distribution over the classes that tells us the likely class(es) the image belongs to. Something that looks like this:\n",
    "<img src='assets/image_distribution.png' width=500px>\n",
    "\n",
    "Here we see that the probability for each class is roughly the same. This is representing an untrained network, it hasn't seen any data yet so it just returns a uniform distribution with equal probabilities for each class.\n",
    "\n",
    "To calculate this probability distribution, we often use the [**softmax** function](https://en.wikipedia.org/wiki/Softmax_function). Mathematically this looks like\n",
    "\n",
    "$$\n",
    "\\Large \\sigma(x_i) = \\cfrac{e^{x_i}}{\\sum_k^K{e^{x_k}}}\n",
    "$$\n",
    "\n",
    "What this does is squish each input $x_i$ between 0 and 1 and normalizes the values to give you a proper probability distribution where the probabilites sum up to one.\n",
    "\n",
    "> **Exercise:** Implement a function `softmax` that performs the softmax calculation and returns probability distributions for each example in the batch. Note that you'll need to pay attention to the shapes when doing this. If you have a tensor `a` with shape `(64, 10)` and a tensor `b` with shape `(64,)`, doing `a/b` will give you an error because PyTorch will try to do the division across the columns (called broadcasting) but you'll get a size mismatch. The way to think about this is for each of the 64 examples, you only want to divide by one value, the sum in the denominator. So you need `b` to have a shape of `(64, 1)`. This way PyTorch will divide the 10 values in each row of `a` by the one value in each row of `b`. Pay attention to how you take the sum as well. You'll need to define the `dim` keyword in `torch.sum`. Setting `dim=0` takes the sum across the rows while `dim=1` takes the sum across the columns."
   ]
  },
  {
   "cell_type": "code",
   "execution_count": 17,
   "metadata": {},
   "outputs": [
    {
     "name": "stdout",
     "output_type": "stream",
     "text": [
      "torch.Size([64, 10])\n",
      "tensor([1.0000, 1.0000, 1.0000, 1.0000, 1.0000, 1.0000, 1.0000, 1.0000, 1.0000,\n",
      "        1.0000, 1.0000, 1.0000, 1.0000, 1.0000, 1.0000, 1.0000, 1.0000, 1.0000,\n",
      "        1.0000, 1.0000, 1.0000, 1.0000, 1.0000, 1.0000, 1.0000, 1.0000, 1.0000,\n",
      "        1.0000, 1.0000, 1.0000, 1.0000, 1.0000, 1.0000, 1.0000, 1.0000, 1.0000,\n",
      "        1.0000, 1.0000, 1.0000, 1.0000, 1.0000, 1.0000, 1.0000, 1.0000, 1.0000,\n",
      "        1.0000, 1.0000, 1.0000, 1.0000, 1.0000, 1.0000, 1.0000, 1.0000, 1.0000,\n",
      "        1.0000, 1.0000, 1.0000, 1.0000, 1.0000, 1.0000, 1.0000, 1.0000, 1.0000,\n",
      "        1.0000])\n"
     ]
    }
   ],
   "source": [
    "# La función de softmax nos sirve para, dado un set de valores, normalizarlo a valores entre 0 y 1\n",
    "\n",
    "def softmax(x):\n",
    "    ## TODO: Implement the softmax function here\n",
    "    return torch.exp(x) / torch.sum(torch.exp(x), dim=1).view(-1, 1)\n",
    "\n",
    "# Here, out should be the output of the network in the previous excercise with shape (64,10)\n",
    "probabilities = softmax(out)\n",
    "\n",
    "# Does it have the right shape? Should be (64, 10)\n",
    "print(probabilities.shape)\n",
    "\n",
    "# Does it sum to 1?\n",
    "# Cada fila tiene 10 elementos con 10 probabilidades.\n",
    "# La suma de las 10 probabilidades tiene que ser 1\n",
    "print(probabilities.sum(dim=1))"
   ]
  },
  {
   "cell_type": "markdown",
   "metadata": {},
   "source": [
    "## Building networks with PyTorch\n",
    "\n",
    "PyTorch provides a module `nn` that makes building networks much simpler. Here I'll show you how to build the same one as above with 784 inputs, 256 hidden units, 10 output units and a softmax output."
   ]
  },
  {
   "cell_type": "code",
   "execution_count": 19,
   "metadata": {},
   "outputs": [],
   "source": [
    "from torch import nn"
   ]
  },
  {
   "cell_type": "code",
   "execution_count": 20,
   "metadata": {},
   "outputs": [],
   "source": [
    "class Network(nn.Module):\n",
    "    def __init__(self):\n",
    "        super().__init__()\n",
    "        \n",
    "        # Inputs to hidden layer linear transformation\n",
    "        self.hidden = nn.Linear(784, 256)\n",
    "        # Output layer, 10 units - one for each digit\n",
    "        self.output = nn.Linear(256, 10)\n",
    "        \n",
    "        # Define sigmoid activation and softmax output \n",
    "        self.sigmoid = nn.Sigmoid()\n",
    "        self.softmax = nn.Softmax(dim=1)\n",
    "        \n",
    "    def forward(self, x):\n",
    "        # Pass the input tensor through each of our operations\n",
    "        x = self.hidden(x)\n",
    "        x = self.sigmoid(x)\n",
    "        x = self.output(x)\n",
    "        x = self.softmax(x)\n",
    "        \n",
    "        return x"
   ]
  },
  {
   "cell_type": "markdown",
   "metadata": {},
   "source": [
    "Let's go through this bit by bit.\n",
    "\n",
    "```python\n",
    "class Network(nn.Module):\n",
    "```\n",
    "\n",
    "Here we're inheriting from `nn.Module`. Combined with `super().__init__()` this creates a class that tracks the architecture and provides a lot of useful methods and attributes. It is mandatory to inherit from `nn.Module` when you're creating a class for your network. The name of the class itself can be anything.\n",
    "\n",
    "```python\n",
    "self.hidden = nn.Linear(784, 256)\n",
    "```\n",
    "\n",
    "This line creates a module for a linear transformation, $x\\mathbf{W} + b$, with 784 inputs and 256 outputs and assigns it to `self.hidden`. The module automatically creates the weight and bias tensors which we'll use in the `forward` method. You can access the weight and bias tensors once the network once it's create at `net.hidden.weight` and `net.hidden.bias`.\n",
    "\n",
    "```python\n",
    "self.output = nn.Linear(256, 10)\n",
    "```\n",
    "\n",
    "Similarly, this creates another linear transformation with 256 inputs and 10 outputs.\n",
    "\n",
    "```python\n",
    "self.sigmoid = nn.Sigmoid()\n",
    "self.softmax = nn.Softmax(dim=1)\n",
    "```\n",
    "\n",
    "Here I defined operations for the sigmoid activation and softmax output. Setting `dim=1` in `nn.Softmax(dim=1)` calculates softmax across the columns.\n",
    "\n",
    "```python\n",
    "def forward(self, x):\n",
    "```\n",
    "\n",
    "PyTorch networks created with `nn.Module` must have a `forward` method defined. It takes in a tensor `x` and passes it through the operations you defined in the `__init__` method.\n",
    "\n",
    "```python\n",
    "x = self.hidden(x)\n",
    "x = self.sigmoid(x)\n",
    "x = self.output(x)\n",
    "x = self.softmax(x)\n",
    "```\n",
    "\n",
    "Here the input tensor `x` is passed through each operation a reassigned to `x`. We can see that the input tensor goes through the hidden layer, then a sigmoid function, then the output layer, and finally the softmax function. It doesn't matter what you name the variables here, as long as the inputs and outputs of the operations match the network architecture you want to build. The order in which you define things in the `__init__` method doesn't matter, but you'll need to sequence the operations correctly in the `forward` method.\n",
    "\n",
    "Now we can create a `Network` object."
   ]
  },
  {
   "cell_type": "code",
   "execution_count": 21,
   "metadata": {},
   "outputs": [
    {
     "data": {
      "text/plain": [
       "Network(\n",
       "  (hidden): Linear(in_features=784, out_features=256, bias=True)\n",
       "  (output): Linear(in_features=256, out_features=10, bias=True)\n",
       "  (sigmoid): Sigmoid()\n",
       "  (softmax): Softmax()\n",
       ")"
      ]
     },
     "execution_count": 21,
     "metadata": {},
     "output_type": "execute_result"
    }
   ],
   "source": [
    "# Create the network and look at it's text representation\n",
    "model = Network()\n",
    "model"
   ]
  },
  {
   "cell_type": "markdown",
   "metadata": {},
   "source": [
    "You can define the network somewhat more concisely and clearly using the `torch.nn.functional` module. This is the most common way you'll see networks defined as many operations are simple element-wise functions. We normally import this module as `F`, `import torch.nn.functional as F`."
   ]
  },
  {
   "cell_type": "code",
   "execution_count": 22,
   "metadata": {},
   "outputs": [],
   "source": [
    "import torch.nn.functional as F\n",
    "\n",
    "class Network(nn.Module):\n",
    "    def __init__(self):\n",
    "        super().__init__()\n",
    "        # Inputs to hidden layer linear transformation\n",
    "        self.hidden = nn.Linear(784, 256)\n",
    "        # Output layer, 10 units - one for each digit\n",
    "        self.output = nn.Linear(256, 10)\n",
    "        \n",
    "    def forward(self, x):\n",
    "        # Hidden layer with sigmoid activation\n",
    "        x = F.sigmoid(self.hidden(x))\n",
    "        # Output layer with softmax activation\n",
    "        x = F.softmax(self.output(x), dim=1)\n",
    "        \n",
    "        return x"
   ]
  },
  {
   "cell_type": "markdown",
   "metadata": {},
   "source": [
    "### Activation functions\n",
    "\n",
    "So far we've only been looking at the softmax activation, but in general any function can be used as an activation function. The only requirement is that for a network to approximate a non-linear function, the activation functions must be non-linear. Here are a few more examples of common activation functions: Tanh (hyperbolic tangent), and ReLU (rectified linear unit).\n",
    "\n",
    "<img src=\"assets/activation.png\" width=700px>\n",
    "\n",
    "In practice, the ReLU function is used almost exclusively as the activation function for hidden layers."
   ]
  },
  {
   "cell_type": "markdown",
   "metadata": {},
   "source": [
    "### Your Turn to Build a Network\n",
    "\n",
    "<img src=\"assets/mlp_mnist.png\" width=600px>\n",
    "\n",
    "> **Exercise:** Create a network with 784 input units, a hidden layer with 128 units and a ReLU activation, then a hidden layer with 64 units and a ReLU activation, and finally an output layer with a softmax activation as shown above. You can use a ReLU activation with the `nn.ReLU` module or `F.relu` function."
   ]
  },
  {
   "cell_type": "code",
   "execution_count": 27,
   "metadata": {
    "scrolled": true
   },
   "outputs": [
    {
     "data": {
      "text/plain": [
       "MiRed(\n",
       "  (fc1): Linear(in_features=784, out_features=128, bias=True)\n",
       "  (fc2): Linear(in_features=128, out_features=64, bias=True)\n",
       "  (output): Linear(in_features=64, out_features=10, bias=True)\n",
       ")"
      ]
     },
     "execution_count": 27,
     "metadata": {},
     "output_type": "execute_result"
    }
   ],
   "source": [
    "## Your solution here\n",
    "import torch.nn.functional as F\n",
    "\n",
    "class MiRed(nn.Module):\n",
    "    def __init__(self):\n",
    "        super().__init__()\n",
    "        # Hidden layer linear transformation\n",
    "        self.fc1 = nn.Linear(784, 128)\n",
    "        self.fc2 = nn.Linear(128, 64)\n",
    "        # Output layer, 10 units - one for each digit\n",
    "        self.output = nn.Linear(64, 10)\n",
    "        \n",
    "    def forward(self, x_):\n",
    "        # Hidden layer with RELU activation\n",
    "        x_ = F.relu(self.fc1(x_))\n",
    "        x_ = F.relu(self.fc2(x_))\n",
    "        # Output layer with softmax activation\n",
    "        x_ = F.softmax(self.output(x_), dim=1)\n",
    "        \n",
    "        return x_\n",
    "\n",
    "model = MiRed()\n",
    "model"
   ]
  },
  {
   "cell_type": "markdown",
   "metadata": {},
   "source": [
    "### Initializing weights and biases\n",
    "\n",
    "The weights and such are automatically initialized for you, but it's possible to customize how they are initialized. The weights and biases are tensors attached to the layer you defined, you can get them with `model.fc1.weight` for instance."
   ]
  },
  {
   "cell_type": "code",
   "execution_count": 28,
   "metadata": {},
   "outputs": [
    {
     "name": "stdout",
     "output_type": "stream",
     "text": [
      "Parameter containing:\n",
      "tensor([[ 0.0152, -0.0357, -0.0242,  ..., -0.0305, -0.0119,  0.0314],\n",
      "        [-0.0095, -0.0042,  0.0298,  ...,  0.0027, -0.0221,  0.0333],\n",
      "        [-0.0183, -0.0233, -0.0055,  ..., -0.0141,  0.0328,  0.0311],\n",
      "        ...,\n",
      "        [-0.0049,  0.0018,  0.0040,  ..., -0.0346,  0.0142, -0.0042],\n",
      "        [-0.0143, -0.0070,  0.0324,  ...,  0.0269,  0.0255,  0.0308],\n",
      "        [ 0.0225, -0.0067, -0.0155,  ...,  0.0072,  0.0245,  0.0028]],\n",
      "       requires_grad=True)\n",
      "Parameter containing:\n",
      "tensor([-0.0251, -0.0273,  0.0137, -0.0014, -0.0054, -0.0061,  0.0227, -0.0324,\n",
      "        -0.0203,  0.0029, -0.0354, -0.0029, -0.0083,  0.0135, -0.0312, -0.0219,\n",
      "        -0.0176, -0.0038, -0.0025, -0.0315,  0.0267,  0.0108, -0.0110, -0.0305,\n",
      "        -0.0230, -0.0160, -0.0314,  0.0037, -0.0031, -0.0059,  0.0270,  0.0161,\n",
      "         0.0157,  0.0047, -0.0018, -0.0217,  0.0269, -0.0049,  0.0309, -0.0250,\n",
      "         0.0098,  0.0109, -0.0177, -0.0004, -0.0330, -0.0151,  0.0080,  0.0246,\n",
      "         0.0107,  0.0188,  0.0114,  0.0304, -0.0051,  0.0029,  0.0331, -0.0120,\n",
      "         0.0278,  0.0239, -0.0314, -0.0212, -0.0165,  0.0223,  0.0316, -0.0235,\n",
      "        -0.0206, -0.0081, -0.0274, -0.0012,  0.0028,  0.0308, -0.0051,  0.0071,\n",
      "         0.0166, -0.0057, -0.0030,  0.0098,  0.0286,  0.0051,  0.0035, -0.0217,\n",
      "         0.0323, -0.0067,  0.0276,  0.0040,  0.0253,  0.0019, -0.0073,  0.0308,\n",
      "        -0.0140, -0.0019, -0.0239,  0.0178,  0.0078,  0.0253,  0.0131, -0.0329,\n",
      "         0.0175, -0.0220,  0.0331, -0.0025, -0.0265, -0.0189, -0.0145, -0.0050,\n",
      "        -0.0101,  0.0207, -0.0228, -0.0196,  0.0042, -0.0109, -0.0095,  0.0201,\n",
      "         0.0259, -0.0124, -0.0152,  0.0311, -0.0183,  0.0333, -0.0208, -0.0168,\n",
      "        -0.0038, -0.0266, -0.0059, -0.0206, -0.0015,  0.0010, -0.0256, -0.0304],\n",
      "       requires_grad=True)\n"
     ]
    }
   ],
   "source": [
    "print(model.fc1.weight)\n",
    "print(model.fc1.bias)"
   ]
  },
  {
   "cell_type": "markdown",
   "metadata": {},
   "source": [
    "For custom initialization, we want to modify these tensors in place. These are actually autograd *Variables*, so we need to get back the actual tensors with `model.fc1.weight.data`. Once we have the tensors, we can fill them with zeros (for biases) or random normal values."
   ]
  },
  {
   "cell_type": "code",
   "execution_count": 29,
   "metadata": {},
   "outputs": [
    {
     "data": {
      "text/plain": [
       "tensor([0., 0., 0., 0., 0., 0., 0., 0., 0., 0., 0., 0., 0., 0., 0., 0., 0., 0.,\n",
       "        0., 0., 0., 0., 0., 0., 0., 0., 0., 0., 0., 0., 0., 0., 0., 0., 0., 0.,\n",
       "        0., 0., 0., 0., 0., 0., 0., 0., 0., 0., 0., 0., 0., 0., 0., 0., 0., 0.,\n",
       "        0., 0., 0., 0., 0., 0., 0., 0., 0., 0., 0., 0., 0., 0., 0., 0., 0., 0.,\n",
       "        0., 0., 0., 0., 0., 0., 0., 0., 0., 0., 0., 0., 0., 0., 0., 0., 0., 0.,\n",
       "        0., 0., 0., 0., 0., 0., 0., 0., 0., 0., 0., 0., 0., 0., 0., 0., 0., 0.,\n",
       "        0., 0., 0., 0., 0., 0., 0., 0., 0., 0., 0., 0., 0., 0., 0., 0., 0., 0.,\n",
       "        0., 0.])"
      ]
     },
     "execution_count": 29,
     "metadata": {},
     "output_type": "execute_result"
    }
   ],
   "source": [
    "# Set biases to all zeros\n",
    "model.fc1.bias.data.fill_(0)"
   ]
  },
  {
   "cell_type": "code",
   "execution_count": 30,
   "metadata": {},
   "outputs": [
    {
     "data": {
      "text/plain": [
       "tensor([[-0.0048, -0.0173,  0.0156,  ..., -0.0049, -0.0011,  0.0093],\n",
       "        [ 0.0071,  0.0066, -0.0006,  ...,  0.0108, -0.0165,  0.0040],\n",
       "        [-0.0122, -0.0126, -0.0043,  ...,  0.0082, -0.0107,  0.0134],\n",
       "        ...,\n",
       "        [-0.0089,  0.0039, -0.0035,  ..., -0.0147,  0.0088,  0.0054],\n",
       "        [-0.0053,  0.0098, -0.0071,  ...,  0.0092, -0.0084,  0.0067],\n",
       "        [-0.0398, -0.0146,  0.0036,  ..., -0.0042, -0.0113,  0.0088]])"
      ]
     },
     "execution_count": 30,
     "metadata": {},
     "output_type": "execute_result"
    }
   ],
   "source": [
    "# sample from random normal with standard dev = 0.01\n",
    "model.fc1.weight.data.normal_(std=0.01)"
   ]
  },
  {
   "cell_type": "markdown",
   "metadata": {},
   "source": [
    "### Forward pass\n",
    "\n",
    "Now that we have a network, let's see what happens when we pass in an image."
   ]
  },
  {
   "cell_type": "code",
   "execution_count": 31,
   "metadata": {},
   "outputs": [
    {
     "data": {
      "image/png": "[encoded data removed]",
      "text/plain": [
       "<Figure size 432x648 with 2 Axes>"
      ]
     },
     "metadata": {
      "image/png": {
       "height": 226,
       "width": 423
      },
      "needs_background": "light"
     },
     "output_type": "display_data"
    }
   ],
   "source": [
    "# Grab some data \n",
    "dataiter = iter(trainloader)\n",
    "images, labels = dataiter.next()\n",
    "\n",
    "# Resize images into a 1D vector, new shape is (batch size, color channels, image pixels) \n",
    "images.resize_(64, 1, 784)\n",
    "# or images.resize_(images.shape[0], 1, 784) to automatically get batch size\n",
    "\n",
    "# Forward pass through the network\n",
    "img_idx = 0\n",
    "ps = model.forward(images[img_idx,:])\n",
    "\n",
    "img = images[img_idx]\n",
    "helper.view_classify(img.view(1, 28, 28), ps)"
   ]
  },
  {
   "cell_type": "markdown",
   "metadata": {},
   "source": [
    "As you can see above, our network has basically no idea what this digit is. It's because we haven't trained it yet, all the weights are random!\n",
    "\n",
    "### Using `nn.Sequential`\n",
    "\n",
    "PyTorch provides a convenient way to build networks like this where a tensor is passed sequentially through operations, `nn.Sequential` ([documentation](https://pytorch.org/docs/master/nn.html#torch.nn.Sequential)). Using this to build the equivalent network:"
   ]
  },
  {
   "cell_type": "code",
   "execution_count": 32,
   "metadata": {},
   "outputs": [
    {
     "name": "stdout",
     "output_type": "stream",
     "text": [
      "Sequential(\n",
      "  (0): Linear(in_features=784, out_features=128, bias=True)\n",
      "  (1): ReLU()\n",
      "  (2): Linear(in_features=128, out_features=64, bias=True)\n",
      "  (3): ReLU()\n",
      "  (4): Linear(in_features=64, out_features=10, bias=True)\n",
      "  (5): Softmax()\n",
      ")\n"
     ]
    },
    {
     "data": {
      "image/png": "[encoded data removed]",
      "text/plain": [
       "<Figure size 432x648 with 2 Axes>"
      ]
     },
     "metadata": {
      "image/png": {
       "height": 226,
       "width": 423
      },
      "needs_background": "light"
     },
     "output_type": "display_data"
    }
   ],
   "source": [
    "# Hyperparameters for our network\n",
    "input_size = 784\n",
    "hidden_sizes = [128, 64]\n",
    "output_size = 10\n",
    "\n",
    "# Build a feed-forward network\n",
    "model = nn.Sequential(nn.Linear(input_size, hidden_sizes[0]),\n",
    "                      nn.ReLU(),\n",
    "                      nn.Linear(hidden_sizes[0], hidden_sizes[1]),\n",
    "                      nn.ReLU(),\n",
    "                      nn.Linear(hidden_sizes[1], output_size),\n",
    "                      nn.Softmax(dim=1))\n",
    "print(model)\n",
    "\n",
    "# Forward pass through the network and display output\n",
    "images, labels = next(iter(trainloader))\n",
    "images.resize_(images.shape[0], 1, 784)\n",
    "ps = model.forward(images[0,:])\n",
    "helper.view_classify(images[0].view(1, 28, 28), ps)"
   ]
  },
  {
   "cell_type": "markdown",
   "metadata": {},
   "source": [
    "Here our model is the same as before: 784 input units, a hidden layer with 128 units, ReLU activation, 64 unit hidden layer, another ReLU, then the output layer with 10 units, and the softmax output.\n",
    "\n",
    "The operations are availble by passing in the appropriate index. For example, if you want to get first Linear operation and look at the weights, you'd use `model[0]`."
   ]
  },
  {
   "cell_type": "code",
   "execution_count": 33,
   "metadata": {},
   "outputs": [
    {
     "name": "stdout",
     "output_type": "stream",
     "text": [
      "Linear(in_features=784, out_features=128, bias=True)\n"
     ]
    },
    {
     "data": {
      "text/plain": [
       "Parameter containing:\n",
       "tensor([[-0.0117, -0.0267, -0.0021,  ...,  0.0099, -0.0061,  0.0288],\n",
       "        [ 0.0290, -0.0274,  0.0019,  ...,  0.0345,  0.0113, -0.0224],\n",
       "        [-0.0124,  0.0001, -0.0094,  ..., -0.0096,  0.0105, -0.0290],\n",
       "        ...,\n",
       "        [ 0.0132, -0.0031, -0.0274,  ...,  0.0137,  0.0044, -0.0086],\n",
       "        [ 0.0093,  0.0240,  0.0236,  ...,  0.0259,  0.0258,  0.0139],\n",
       "        [-0.0012,  0.0200,  0.0051,  ..., -0.0012, -0.0262, -0.0076]],\n",
       "       requires_grad=True)"
      ]
     },
     "execution_count": 33,
     "metadata": {},
     "output_type": "execute_result"
    }
   ],
   "source": [
    "print(model[0])\n",
    "model[0].weight"
   ]
  },
  {
   "cell_type": "markdown",
   "metadata": {},
   "source": [
    "You can also pass in an `OrderedDict` to name the individual layers and operations, instead of using incremental integers. Note that dictionary keys must be unique, so _each operation must have a different name_."
   ]
  },
  {
   "cell_type": "code",
   "execution_count": 34,
   "metadata": {},
   "outputs": [
    {
     "data": {
      "text/plain": [
       "Sequential(\n",
       "  (fc1): Linear(in_features=784, out_features=128, bias=True)\n",
       "  (relu1): ReLU()\n",
       "  (fc2): Linear(in_features=128, out_features=64, bias=True)\n",
       "  (relu2): ReLU()\n",
       "  (output): Linear(in_features=64, out_features=10, bias=True)\n",
       "  (softmax): Softmax()\n",
       ")"
      ]
     },
     "execution_count": 34,
     "metadata": {},
     "output_type": "execute_result"
    }
   ],
   "source": [
    "from collections import OrderedDict\n",
    "model = nn.Sequential(OrderedDict([\n",
    "                      ('fc1', nn.Linear(input_size, hidden_sizes[0])),\n",
    "                      ('relu1', nn.ReLU()),\n",
    "                      ('fc2', nn.Linear(hidden_sizes[0], hidden_sizes[1])),\n",
    "                      ('relu2', nn.ReLU()),\n",
    "                      ('output', nn.Linear(hidden_sizes[1], output_size)),\n",
    "                      ('softmax', nn.Softmax(dim=1))]))\n",
    "model"
   ]
  },
  {
   "cell_type": "markdown",
   "metadata": {},
   "source": [
    "Now you can access layers either by integer or the name"
   ]
  },
  {
   "cell_type": "code",
   "execution_count": 36,
   "metadata": {},
   "outputs": [
    {
     "name": "stdout",
     "output_type": "stream",
     "text": [
      "ReLU()\n",
      "Linear(in_features=784, out_features=128, bias=True)\n"
     ]
    }
   ],
   "source": [
    "print(model[0])\n",
    "print(model.fc1)"
   ]
  },
  {
   "cell_type": "markdown",
   "metadata": {},
   "source": [
    "In the next notebook, we'll see how we can train a neural network to accuractly predict the numbers appearing in the MNIST images."
   ]
  }
 ],
 "metadata": {
  "kernelspec": {
   "display_name": "Python 3",
   "language": "python",
   "name": "python3"
  },
  "language_info": {
   "codemirror_mode": {
    "name": "ipython",
    "version": 3
   },
   "file_extension": ".py",
   "mimetype": "text/x-python",
   "name": "python",
   "nbconvert_exporter": "python",
   "pygments_lexer": "ipython3",
   "version": "3.6.6"
  }
 },
 "nbformat": 4,
 "nbformat_minor": 2
}
